{
 "cells": [
  {
   "cell_type": "code",
   "execution_count": 1,
   "id": "b106cabf-707a-41c4-8354-729e2b90de59",
   "metadata": {},
   "outputs": [],
   "source": [
    "import MDAnalysis as mda"
   ]
  },
  {
   "cell_type": "code",
   "execution_count": 6,
   "id": "b5e0e58b-a130-4317-ba28-ef4228a2ba8a",
   "metadata": {},
   "outputs": [
    {
     "name": "stderr",
     "output_type": "stream",
     "text": [
      "Warning: importing 'simtk.openmm' is deprecated.  Import 'openmm' instead.\n",
      "/home/li/miniconda3/envs/bss/lib/python3.9/site-packages/MDAnalysis/coordinates/PDB.py:432: UserWarning: 1 A^3 CRYST1 record, this is usually a placeholder. Unit cell dimensions will be set to None.\n",
      "  warnings.warn(\"1 A^3 CRYST1 record,\"\n"
     ]
    }
   ],
   "source": [
    "u = mda.Universe(\"org_protein_files/AF-P29597-F1-model_v3.pdb\")"
   ]
  },
  {
   "cell_type": "code",
   "execution_count": 8,
   "id": "2802b4cf-c996-4bb1-ab14-059fd94d54d9",
   "metadata": {},
   "outputs": [],
   "source": [
    "rev_res = u.select_atoms(\"resnum 890:1177\")"
   ]
  },
  {
   "cell_type": "code",
   "execution_count": 9,
   "id": "0f1202ee-c79d-4e26-bc13-e2af1af38041",
   "metadata": {},
   "outputs": [
    {
     "data": {
      "text/plain": [
       "<AtomGroup with 2347 atoms>"
      ]
     },
     "execution_count": 9,
     "metadata": {},
     "output_type": "execute_result"
    }
   ],
   "source": [
    "rev_res"
   ]
  },
  {
   "cell_type": "code",
   "execution_count": 10,
   "id": "e67a5a3b-5c43-46cb-9925-bbb9bacbb261",
   "metadata": {},
   "outputs": [
    {
     "name": "stderr",
     "output_type": "stream",
     "text": [
      "/home/li/miniconda3/envs/bss/lib/python3.9/site-packages/MDAnalysis/coordinates/PDB.py:753: UserWarning: Unit cell dimensions not found. CRYST1 record set to unitary values.\n",
      "  warnings.warn(\"Unit cell dimensions not found. \"\n",
      "/home/li/miniconda3/envs/bss/lib/python3.9/site-packages/MDAnalysis/coordinates/PDB.py:1129: UserWarning: Found no information for attr: 'formalcharges' Using default value of '0'\n",
      "  warnings.warn(\"Found no information for attr: '{}'\"\n"
     ]
    }
   ],
   "source": [
    "rev_res.write(\"org_protein_files/AF_relavent_res.pdb\")"
   ]
  },
  {
   "cell_type": "code",
   "execution_count": null,
   "id": "a7ab67d5-9bbd-4c4c-9b23-827759be364c",
   "metadata": {},
   "outputs": [],
   "source": []
  }
 ],
 "metadata": {
  "kernelspec": {
   "display_name": "Python 3 (ipykernel)",
   "language": "python",
   "name": "python3"
  },
  "language_info": {
   "codemirror_mode": {
    "name": "ipython",
    "version": 3
   },
   "file_extension": ".py",
   "mimetype": "text/x-python",
   "name": "python",
   "nbconvert_exporter": "python",
   "pygments_lexer": "ipython3",
   "version": "3.9.13"
  }
 },
 "nbformat": 4,
 "nbformat_minor": 5
}
